{
  "nbformat": 4,
  "nbformat_minor": 0,
  "metadata": {
    "colab": {
      "provenance": [],
      "gpuType": "T4",
      "toc_visible": true,
      "mount_file_id": "10dLsFLISgNDZ4sXyxPdR2_hlUNo-H-FO",
      "authorship_tag": "ABX9TyNCQmQy+6oZde7b0hnp6qtk",
      "include_colab_link": true
    },
    "kernelspec": {
      "name": "python3",
      "display_name": "Python 3"
    },
    "language_info": {
      "name": "python"
    },
    "accelerator": "GPU"
  },
  "cells": [
    {
      "cell_type": "markdown",
      "metadata": {
        "id": "view-in-github",
        "colab_type": "text"
      },
      "source": [
        "<a href=\"https://colab.research.google.com/github/mrpintime/Santander-Customer-Transaction/blob/main/SantanderCustomerTransaction(Kaggle_competition).ipynb\" target=\"_parent\"><img src=\"https://colab.research.google.com/assets/colab-badge.svg\" alt=\"Open In Colab\"/></a>"
      ]
    },
    {
      "cell_type": "markdown",
      "source": [
        "# Customer Specific Transactions\n",
        "Created by Moein aka Mrpintime"
      ],
      "metadata": {
        "id": "aVRV6EyRtGpV"
      }
    },
    {
      "cell_type": "markdown",
      "source": [
        "# **DataSet Description**:\n",
        "`name`: SantanderCustomerSatisfaction\n",
        "`version`: 3\n",
        "`Author`: Banco Santander\n",
        "`description`:\n",
        "At Santander our mission is to help people and businesses prosper. We are always looking for ways to help our customers understand their financial health and identify which products and services might help them achieve their monetary goals.\n",
        "\n",
        "Our data science team is continually challenging our machine learning algorithms, working with the global data science community to make sure we can more accurately identify new ways to solve our most common challenge, binary classification problems such as: is a customer satisfied? Will a customer buy this product? Can a customer pay this loan?\n",
        "\n",
        "**Dataset taken from Kaggle**: https://www.kaggle.com/c/santander-customer-transaction-prediction/data\n",
        "\n",
        "\n",
        "---\n",
        "\n",
        "\n",
        "# Problem\n",
        "\n",
        "\n",
        "In this challenge, we want to identify which customers will make a specific transaction in the future, irrespective of the amount of money transacted.\n",
        "**Note**: The data provided for this competition has the same structure as the real data we have available to solve this problem."
      ],
      "metadata": {
        "id": "TV6s4jhZvAor"
      }
    },
    {
      "cell_type": "markdown",
      "source": [
        "# Import files from Kaggle"
      ],
      "metadata": {
        "id": "_-X1SZ-ythmN"
      }
    },
    {
      "cell_type": "code",
      "source": [
        "# !pip install opendatasets\n",
        "# import opendatasets as op\n",
        "# op.download(\"https://www.kaggle.com/competitions/santander-customer-transaction-prediction/data\")"
      ],
      "metadata": {
        "id": "qSvvTY0itfW3"
      },
      "execution_count": null,
      "outputs": []
    },
    {
      "cell_type": "markdown",
      "source": [
        "Install cuML and lightgbm for faster computing"
      ],
      "metadata": {
        "id": "8Tn1p7-j2u-W"
      }
    },
    {
      "cell_type": "code",
      "source": [
        "# this cell is for install cuML on Colab\n",
        "# !git clone https://github.com/rapidsai/rapidsai-csp-utils.git\n",
        "# !python rapidsai-csp-utils/colab/pip-install.py\n",
        "# install LightGBM\n",
        "# !pip install lightgbm"
      ],
      "metadata": {
        "id": "_UC9fHBV2uNE"
      },
      "execution_count": null,
      "outputs": []
    },
    {
      "cell_type": "markdown",
      "source": [
        "# Pre-processing (Cleansing)"
      ],
      "metadata": {
        "id": "pcjLNE7XuNR3"
      }
    },
    {
      "cell_type": "markdown",
      "source": [
        "Import necessary libraries"
      ],
      "metadata": {
        "id": "5Xlv09skuTRA"
      }
    },
    {
      "cell_type": "code",
      "source": [
        "import pandas as pd, seaborn as sns, numpy as np, matplotlib.pyplot as plt"
      ],
      "metadata": {
        "id": "XuVYREKLubkq"
      },
      "execution_count": null,
      "outputs": []
    },
    {
      "cell_type": "code",
      "source": [
        "# save files to google drive\n",
        "# ! cp -r \"/content/santander-customer-transaction-prediction/\" \"/content/drive/MyDrive/\""
      ],
      "metadata": {
        "id": "-39XZptFuxob"
      },
      "execution_count": null,
      "outputs": []
    },
    {
      "cell_type": "markdown",
      "source": [
        "Read train set"
      ],
      "metadata": {
        "id": "UqWfvxl-vIQt"
      }
    },
    {
      "cell_type": "code",
      "source": [
        "df = pd.read_csv(\"/content/drive/MyDrive/santander-customer-transaction-prediction/train.csv\")\n",
        "df.head()"
      ],
      "metadata": {
        "colab": {
          "base_uri": "https://localhost:8080/",
          "height": 300
        },
        "id": "cUECJ6qEruRT",
        "outputId": "7bc927ca-578c-4f6b-e235-0dff5c160cd9"
      },
      "execution_count": null,
      "outputs": [
        {
          "output_type": "execute_result",
          "data": {
            "text/plain": [
              "   ID_code  target    var_0   var_1    var_2   var_3    var_4   var_5   var_6  \\\n",
              "0  train_0       0   8.9255 -6.7863  11.9081  5.0930  11.4607 -9.2834  5.1187   \n",
              "1  train_1       0  11.5006 -4.1473  13.8588  5.3890  12.3622  7.0433  5.6208   \n",
              "2  train_2       0   8.6093 -2.7457  12.0805  7.8928  10.5825 -9.0837  6.9427   \n",
              "3  train_3       0  11.0604 -2.1518   8.9522  7.1957  12.5846 -1.8361  5.8428   \n",
              "4  train_4       0   9.8369 -1.4834  12.8746  6.6375  12.2772  2.4486  5.9405   \n",
              "\n",
              "     var_7  ...  var_190  var_191  var_192  var_193  var_194  var_195  \\\n",
              "0  18.6266  ...   4.4354   3.9642   3.1364   1.6910  18.5227  -2.3978   \n",
              "1  16.5338  ...   7.6421   7.7214   2.5837  10.9516  15.4305   2.0339   \n",
              "2  14.6155  ...   2.9057   9.7905   1.6704   1.6858  21.6042   3.1417   \n",
              "3  14.9250  ...   4.4666   4.7433   0.7178   1.4214  23.0347  -1.2706   \n",
              "4  19.2514  ...  -1.4905   9.5214  -0.1508   9.1942  13.2876  -1.5121   \n",
              "\n",
              "   var_196  var_197  var_198  var_199  \n",
              "0   7.8784   8.5635  12.7803  -1.0914  \n",
              "1   8.1267   8.7889  18.3560   1.9518  \n",
              "2  -6.5213   8.2675  14.7222   0.3965  \n",
              "3  -2.9275  10.2922  17.9697  -8.9996  \n",
              "4   3.9267   9.5031  17.9974  -8.8104  \n",
              "\n",
              "[5 rows x 202 columns]"
            ],
            "text/html": [
              "\n",
              "  <div id=\"df-932a4d4b-cc31-4ece-bf08-4008712f5c07\">\n",
              "    <div class=\"colab-df-container\">\n",
              "      <div>\n",
              "<style scoped>\n",
              "    .dataframe tbody tr th:only-of-type {\n",
              "        vertical-align: middle;\n",
              "    }\n",
              "\n",
              "    .dataframe tbody tr th {\n",
              "        vertical-align: top;\n",
              "    }\n",
              "\n",
              "    .dataframe thead th {\n",
              "        text-align: right;\n",
              "    }\n",
              "</style>\n",
              "<table border=\"1\" class=\"dataframe\">\n",
              "  <thead>\n",
              "    <tr style=\"text-align: right;\">\n",
              "      <th></th>\n",
              "      <th>ID_code</th>\n",
              "      <th>target</th>\n",
              "      <th>var_0</th>\n",
              "      <th>var_1</th>\n",
              "      <th>var_2</th>\n",
              "      <th>var_3</th>\n",
              "      <th>var_4</th>\n",
              "      <th>var_5</th>\n",
              "      <th>var_6</th>\n",
              "      <th>var_7</th>\n",
              "      <th>...</th>\n",
              "      <th>var_190</th>\n",
              "      <th>var_191</th>\n",
              "      <th>var_192</th>\n",
              "      <th>var_193</th>\n",
              "      <th>var_194</th>\n",
              "      <th>var_195</th>\n",
              "      <th>var_196</th>\n",
              "      <th>var_197</th>\n",
              "      <th>var_198</th>\n",
              "      <th>var_199</th>\n",
              "    </tr>\n",
              "  </thead>\n",
              "  <tbody>\n",
              "    <tr>\n",
              "      <th>0</th>\n",
              "      <td>train_0</td>\n",
              "      <td>0</td>\n",
              "      <td>8.9255</td>\n",
              "      <td>-6.7863</td>\n",
              "      <td>11.9081</td>\n",
              "      <td>5.0930</td>\n",
              "      <td>11.4607</td>\n",
              "      <td>-9.2834</td>\n",
              "      <td>5.1187</td>\n",
              "      <td>18.6266</td>\n",
              "      <td>...</td>\n",
              "      <td>4.4354</td>\n",
              "      <td>3.9642</td>\n",
              "      <td>3.1364</td>\n",
              "      <td>1.6910</td>\n",
              "      <td>18.5227</td>\n",
              "      <td>-2.3978</td>\n",
              "      <td>7.8784</td>\n",
              "      <td>8.5635</td>\n",
              "      <td>12.7803</td>\n",
              "      <td>-1.0914</td>\n",
              "    </tr>\n",
              "    <tr>\n",
              "      <th>1</th>\n",
              "      <td>train_1</td>\n",
              "      <td>0</td>\n",
              "      <td>11.5006</td>\n",
              "      <td>-4.1473</td>\n",
              "      <td>13.8588</td>\n",
              "      <td>5.3890</td>\n",
              "      <td>12.3622</td>\n",
              "      <td>7.0433</td>\n",
              "      <td>5.6208</td>\n",
              "      <td>16.5338</td>\n",
              "      <td>...</td>\n",
              "      <td>7.6421</td>\n",
              "      <td>7.7214</td>\n",
              "      <td>2.5837</td>\n",
              "      <td>10.9516</td>\n",
              "      <td>15.4305</td>\n",
              "      <td>2.0339</td>\n",
              "      <td>8.1267</td>\n",
              "      <td>8.7889</td>\n",
              "      <td>18.3560</td>\n",
              "      <td>1.9518</td>\n",
              "    </tr>\n",
              "    <tr>\n",
              "      <th>2</th>\n",
              "      <td>train_2</td>\n",
              "      <td>0</td>\n",
              "      <td>8.6093</td>\n",
              "      <td>-2.7457</td>\n",
              "      <td>12.0805</td>\n",
              "      <td>7.8928</td>\n",
              "      <td>10.5825</td>\n",
              "      <td>-9.0837</td>\n",
              "      <td>6.9427</td>\n",
              "      <td>14.6155</td>\n",
              "      <td>...</td>\n",
              "      <td>2.9057</td>\n",
              "      <td>9.7905</td>\n",
              "      <td>1.6704</td>\n",
              "      <td>1.6858</td>\n",
              "      <td>21.6042</td>\n",
              "      <td>3.1417</td>\n",
              "      <td>-6.5213</td>\n",
              "      <td>8.2675</td>\n",
              "      <td>14.7222</td>\n",
              "      <td>0.3965</td>\n",
              "    </tr>\n",
              "    <tr>\n",
              "      <th>3</th>\n",
              "      <td>train_3</td>\n",
              "      <td>0</td>\n",
              "      <td>11.0604</td>\n",
              "      <td>-2.1518</td>\n",
              "      <td>8.9522</td>\n",
              "      <td>7.1957</td>\n",
              "      <td>12.5846</td>\n",
              "      <td>-1.8361</td>\n",
              "      <td>5.8428</td>\n",
              "      <td>14.9250</td>\n",
              "      <td>...</td>\n",
              "      <td>4.4666</td>\n",
              "      <td>4.7433</td>\n",
              "      <td>0.7178</td>\n",
              "      <td>1.4214</td>\n",
              "      <td>23.0347</td>\n",
              "      <td>-1.2706</td>\n",
              "      <td>-2.9275</td>\n",
              "      <td>10.2922</td>\n",
              "      <td>17.9697</td>\n",
              "      <td>-8.9996</td>\n",
              "    </tr>\n",
              "    <tr>\n",
              "      <th>4</th>\n",
              "      <td>train_4</td>\n",
              "      <td>0</td>\n",
              "      <td>9.8369</td>\n",
              "      <td>-1.4834</td>\n",
              "      <td>12.8746</td>\n",
              "      <td>6.6375</td>\n",
              "      <td>12.2772</td>\n",
              "      <td>2.4486</td>\n",
              "      <td>5.9405</td>\n",
              "      <td>19.2514</td>\n",
              "      <td>...</td>\n",
              "      <td>-1.4905</td>\n",
              "      <td>9.5214</td>\n",
              "      <td>-0.1508</td>\n",
              "      <td>9.1942</td>\n",
              "      <td>13.2876</td>\n",
              "      <td>-1.5121</td>\n",
              "      <td>3.9267</td>\n",
              "      <td>9.5031</td>\n",
              "      <td>17.9974</td>\n",
              "      <td>-8.8104</td>\n",
              "    </tr>\n",
              "  </tbody>\n",
              "</table>\n",
              "<p>5 rows × 202 columns</p>\n",
              "</div>\n",
              "      <button class=\"colab-df-convert\" onclick=\"convertToInteractive('df-932a4d4b-cc31-4ece-bf08-4008712f5c07')\"\n",
              "              title=\"Convert this dataframe to an interactive table.\"\n",
              "              style=\"display:none;\">\n",
              "        \n",
              "  <svg xmlns=\"http://www.w3.org/2000/svg\" height=\"24px\"viewBox=\"0 0 24 24\"\n",
              "       width=\"24px\">\n",
              "    <path d=\"M0 0h24v24H0V0z\" fill=\"none\"/>\n",
              "    <path d=\"M18.56 5.44l.94 2.06.94-2.06 2.06-.94-2.06-.94-.94-2.06-.94 2.06-2.06.94zm-11 1L8.5 8.5l.94-2.06 2.06-.94-2.06-.94L8.5 2.5l-.94 2.06-2.06.94zm10 10l.94 2.06.94-2.06 2.06-.94-2.06-.94-.94-2.06-.94 2.06-2.06.94z\"/><path d=\"M17.41 7.96l-1.37-1.37c-.4-.4-.92-.59-1.43-.59-.52 0-1.04.2-1.43.59L10.3 9.45l-7.72 7.72c-.78.78-.78 2.05 0 2.83L4 21.41c.39.39.9.59 1.41.59.51 0 1.02-.2 1.41-.59l7.78-7.78 2.81-2.81c.8-.78.8-2.07 0-2.86zM5.41 20L4 18.59l7.72-7.72 1.47 1.35L5.41 20z\"/>\n",
              "  </svg>\n",
              "      </button>\n",
              "      \n",
              "  <style>\n",
              "    .colab-df-container {\n",
              "      display:flex;\n",
              "      flex-wrap:wrap;\n",
              "      gap: 12px;\n",
              "    }\n",
              "\n",
              "    .colab-df-convert {\n",
              "      background-color: #E8F0FE;\n",
              "      border: none;\n",
              "      border-radius: 50%;\n",
              "      cursor: pointer;\n",
              "      display: none;\n",
              "      fill: #1967D2;\n",
              "      height: 32px;\n",
              "      padding: 0 0 0 0;\n",
              "      width: 32px;\n",
              "    }\n",
              "\n",
              "    .colab-df-convert:hover {\n",
              "      background-color: #E2EBFA;\n",
              "      box-shadow: 0px 1px 2px rgba(60, 64, 67, 0.3), 0px 1px 3px 1px rgba(60, 64, 67, 0.15);\n",
              "      fill: #174EA6;\n",
              "    }\n",
              "\n",
              "    [theme=dark] .colab-df-convert {\n",
              "      background-color: #3B4455;\n",
              "      fill: #D2E3FC;\n",
              "    }\n",
              "\n",
              "    [theme=dark] .colab-df-convert:hover {\n",
              "      background-color: #434B5C;\n",
              "      box-shadow: 0px 1px 3px 1px rgba(0, 0, 0, 0.15);\n",
              "      filter: drop-shadow(0px 1px 2px rgba(0, 0, 0, 0.3));\n",
              "      fill: #FFFFFF;\n",
              "    }\n",
              "  </style>\n",
              "\n",
              "      <script>\n",
              "        const buttonEl =\n",
              "          document.querySelector('#df-932a4d4b-cc31-4ece-bf08-4008712f5c07 button.colab-df-convert');\n",
              "        buttonEl.style.display =\n",
              "          google.colab.kernel.accessAllowed ? 'block' : 'none';\n",
              "\n",
              "        async function convertToInteractive(key) {\n",
              "          const element = document.querySelector('#df-932a4d4b-cc31-4ece-bf08-4008712f5c07');\n",
              "          const dataTable =\n",
              "            await google.colab.kernel.invokeFunction('convertToInteractive',\n",
              "                                                     [key], {});\n",
              "          if (!dataTable) return;\n",
              "\n",
              "          const docLinkHtml = 'Like what you see? Visit the ' +\n",
              "            '<a target=\"_blank\" href=https://colab.research.google.com/notebooks/data_table.ipynb>data table notebook</a>'\n",
              "            + ' to learn more about interactive tables.';\n",
              "          element.innerHTML = '';\n",
              "          dataTable['output_type'] = 'display_data';\n",
              "          await google.colab.output.renderOutput(dataTable, element);\n",
              "          const docLink = document.createElement('div');\n",
              "          docLink.innerHTML = docLinkHtml;\n",
              "          element.appendChild(docLink);\n",
              "        }\n",
              "      </script>\n",
              "    </div>\n",
              "  </div>\n",
              "  "
            ]
          },
          "metadata": {},
          "execution_count": 6
        }
      ]
    },
    {
      "cell_type": "markdown",
      "source": [
        "**Note**: We have a very large dataset"
      ],
      "metadata": {
        "id": "dRTyOaMHvaiz"
      }
    },
    {
      "cell_type": "code",
      "source": [
        "df.shape"
      ],
      "metadata": {
        "colab": {
          "base_uri": "https://localhost:8080/"
        },
        "id": "qKB1Ccb3rwA2",
        "outputId": "70803b2d-8b33-4a01-9fd4-e608c2424bdd"
      },
      "execution_count": null,
      "outputs": [
        {
          "output_type": "execute_result",
          "data": {
            "text/plain": [
              "(200000, 202)"
            ]
          },
          "metadata": {},
          "execution_count": 5
        }
      ]
    },
    {
      "cell_type": "markdown",
      "source": [
        "Check the null values, feature variables, target variable and clean them"
      ],
      "metadata": {
        "id": "OplU32kivmS1"
      }
    },
    {
      "cell_type": "code",
      "source": [
        "df.isnull().sum()"
      ],
      "metadata": {
        "colab": {
          "base_uri": "https://localhost:8080/"
        },
        "id": "XdFf4zoSwXlT",
        "outputId": "26659fdf-2c7e-48ff-a24b-79b70559a97b"
      },
      "execution_count": null,
      "outputs": [
        {
          "output_type": "execute_result",
          "data": {
            "text/plain": [
              "ID_code    0\n",
              "target     0\n",
              "var_0      0\n",
              "var_1      0\n",
              "var_2      0\n",
              "          ..\n",
              "var_195    0\n",
              "var_196    0\n",
              "var_197    0\n",
              "var_198    0\n",
              "var_199    0\n",
              "Length: 202, dtype: int64"
            ]
          },
          "metadata": {},
          "execution_count": 6
        }
      ]
    },
    {
      "cell_type": "code",
      "source": [
        "df.isnull().sum().sum()"
      ],
      "metadata": {
        "colab": {
          "base_uri": "https://localhost:8080/"
        },
        "id": "M4TQ_LIlvX8r",
        "outputId": "a8018b9b-a7e5-4394-baa0-5b01694e9850"
      },
      "execution_count": null,
      "outputs": [
        {
          "output_type": "execute_result",
          "data": {
            "text/plain": [
              "0"
            ]
          },
          "metadata": {},
          "execution_count": 7
        }
      ]
    },
    {
      "cell_type": "code",
      "source": [
        "df.columns"
      ],
      "metadata": {
        "colab": {
          "base_uri": "https://localhost:8080/"
        },
        "id": "WeAT_Nd_vqTg",
        "outputId": "681d2c92-a673-41a6-b5db-982d43c3a364"
      },
      "execution_count": null,
      "outputs": [
        {
          "output_type": "execute_result",
          "data": {
            "text/plain": [
              "Index(['ID_code', 'target', 'var_0', 'var_1', 'var_2', 'var_3', 'var_4',\n",
              "       'var_5', 'var_6', 'var_7',\n",
              "       ...\n",
              "       'var_190', 'var_191', 'var_192', 'var_193', 'var_194', 'var_195',\n",
              "       'var_196', 'var_197', 'var_198', 'var_199'],\n",
              "      dtype='object', length=202)"
            ]
          },
          "metadata": {},
          "execution_count": 8
        }
      ]
    },
    {
      "cell_type": "code",
      "source": [
        "df.dtypes"
      ],
      "metadata": {
        "colab": {
          "base_uri": "https://localhost:8080/"
        },
        "id": "hNzS8J7SwUDs",
        "outputId": "5710c1e7-eefa-4b85-a1f7-1a052b05d473"
      },
      "execution_count": null,
      "outputs": [
        {
          "output_type": "execute_result",
          "data": {
            "text/plain": [
              "ID_code     object\n",
              "target       int64\n",
              "var_0      float64\n",
              "var_1      float64\n",
              "var_2      float64\n",
              "            ...   \n",
              "var_195    float64\n",
              "var_196    float64\n",
              "var_197    float64\n",
              "var_198    float64\n",
              "var_199    float64\n",
              "Length: 202, dtype: object"
            ]
          },
          "metadata": {},
          "execution_count": 9
        }
      ]
    },
    {
      "cell_type": "code",
      "source": [
        "df.dtypes.unique()"
      ],
      "metadata": {
        "colab": {
          "base_uri": "https://localhost:8080/"
        },
        "id": "Av9tK9P3wCpR",
        "outputId": "da04c6f2-9a1d-4414-9dfd-9c2fbefbdc2e"
      },
      "execution_count": null,
      "outputs": [
        {
          "output_type": "execute_result",
          "data": {
            "text/plain": [
              "array([dtype('O'), dtype('int64'), dtype('float64')], dtype=object)"
            ]
          },
          "metadata": {},
          "execution_count": 10
        }
      ]
    },
    {
      "cell_type": "code",
      "source": [
        "df = df.drop(columns='ID_code')"
      ],
      "metadata": {
        "id": "cYuY5BuYwPA8"
      },
      "execution_count": null,
      "outputs": []
    },
    {
      "cell_type": "markdown",
      "source": [
        "Descriptive statistics"
      ],
      "metadata": {
        "id": "PSbJI4GS57I_"
      }
    },
    {
      "cell_type": "code",
      "source": [
        "df.describe()"
      ],
      "metadata": {
        "colab": {
          "base_uri": "https://localhost:8080/",
          "height": 394
        },
        "id": "6GoN8avb56am",
        "outputId": "a0008e63-9b28-4b72-a39d-acc0646d34ab"
      },
      "execution_count": null,
      "outputs": [
        {
          "output_type": "execute_result",
          "data": {
            "text/plain": [
              "              target          var_0          var_1          var_2  \\\n",
              "count  200000.000000  200000.000000  200000.000000  200000.000000   \n",
              "mean        0.100490      10.679914      -1.627622      10.715192   \n",
              "std         0.300653       3.040051       4.050044       2.640894   \n",
              "min         0.000000       0.408400     -15.043400       2.117100   \n",
              "25%         0.000000       8.453850      -4.740025       8.722475   \n",
              "50%         0.000000      10.524750      -1.608050      10.580000   \n",
              "75%         0.000000      12.758200       1.358625      12.516700   \n",
              "max         1.000000      20.315000      10.376800      19.353000   \n",
              "\n",
              "               var_3          var_4          var_5          var_6  \\\n",
              "count  200000.000000  200000.000000  200000.000000  200000.000000   \n",
              "mean        6.796529      11.078333      -5.065317       5.408949   \n",
              "std         2.043319       1.623150       7.863267       0.866607   \n",
              "min        -0.040200       5.074800     -32.562600       2.347300   \n",
              "25%         5.254075       9.883175     -11.200350       4.767700   \n",
              "50%         6.825000      11.108250      -4.833150       5.385100   \n",
              "75%         8.324100      12.261125       0.924800       6.003000   \n",
              "max        13.188300      16.671400      17.251600       8.447700   \n",
              "\n",
              "               var_7          var_8  ...        var_190        var_191  \\\n",
              "count  200000.000000  200000.000000  ...  200000.000000  200000.000000   \n",
              "mean       16.545850       0.284162  ...       3.234440       7.438408   \n",
              "std         3.418076       3.332634  ...       4.559922       3.023272   \n",
              "min         5.349700     -10.505500  ...     -14.093300      -2.691700   \n",
              "25%        13.943800      -2.317800  ...      -0.058825       5.157400   \n",
              "50%        16.456800       0.393700  ...       3.203600       7.347750   \n",
              "75%        19.102900       2.937900  ...       6.406200       9.512525   \n",
              "max        27.691800      10.151300  ...      18.440900      16.716500   \n",
              "\n",
              "             var_192        var_193        var_194        var_195  \\\n",
              "count  200000.000000  200000.000000  200000.000000  200000.000000   \n",
              "mean        1.927839       3.331774      17.993784      -0.142088   \n",
              "std         1.478423       3.992030       3.135162       1.429372   \n",
              "min        -3.814500     -11.783400       8.694400      -5.261000   \n",
              "25%         0.889775       0.584600      15.629800      -1.170700   \n",
              "50%         1.901300       3.396350      17.957950      -0.172700   \n",
              "75%         2.949500       6.205800      20.396525       0.829600   \n",
              "max         8.402400      18.281800      27.928800       4.272900   \n",
              "\n",
              "             var_196        var_197        var_198        var_199  \n",
              "count  200000.000000  200000.000000  200000.000000  200000.000000  \n",
              "mean        2.303335       8.908158      15.870720      -3.326537  \n",
              "std         5.454369       0.921625       3.010945      10.438015  \n",
              "min       -14.209600       5.960600       6.299300     -38.852800  \n",
              "25%        -1.946925       8.252800      13.829700     -11.208475  \n",
              "50%         2.408900       8.888200      15.934050      -2.819550  \n",
              "75%         6.556725       9.593300      18.064725       4.836800  \n",
              "max        18.321500      12.000400      26.079100      28.500700  \n",
              "\n",
              "[8 rows x 201 columns]"
            ],
            "text/html": [
              "\n",
              "  <div id=\"df-8d47ff68-a1b2-4106-81d4-bbada9e29515\">\n",
              "    <div class=\"colab-df-container\">\n",
              "      <div>\n",
              "<style scoped>\n",
              "    .dataframe tbody tr th:only-of-type {\n",
              "        vertical-align: middle;\n",
              "    }\n",
              "\n",
              "    .dataframe tbody tr th {\n",
              "        vertical-align: top;\n",
              "    }\n",
              "\n",
              "    .dataframe thead th {\n",
              "        text-align: right;\n",
              "    }\n",
              "</style>\n",
              "<table border=\"1\" class=\"dataframe\">\n",
              "  <thead>\n",
              "    <tr style=\"text-align: right;\">\n",
              "      <th></th>\n",
              "      <th>target</th>\n",
              "      <th>var_0</th>\n",
              "      <th>var_1</th>\n",
              "      <th>var_2</th>\n",
              "      <th>var_3</th>\n",
              "      <th>var_4</th>\n",
              "      <th>var_5</th>\n",
              "      <th>var_6</th>\n",
              "      <th>var_7</th>\n",
              "      <th>var_8</th>\n",
              "      <th>...</th>\n",
              "      <th>var_190</th>\n",
              "      <th>var_191</th>\n",
              "      <th>var_192</th>\n",
              "      <th>var_193</th>\n",
              "      <th>var_194</th>\n",
              "      <th>var_195</th>\n",
              "      <th>var_196</th>\n",
              "      <th>var_197</th>\n",
              "      <th>var_198</th>\n",
              "      <th>var_199</th>\n",
              "    </tr>\n",
              "  </thead>\n",
              "  <tbody>\n",
              "    <tr>\n",
              "      <th>count</th>\n",
              "      <td>200000.000000</td>\n",
              "      <td>200000.000000</td>\n",
              "      <td>200000.000000</td>\n",
              "      <td>200000.000000</td>\n",
              "      <td>200000.000000</td>\n",
              "      <td>200000.000000</td>\n",
              "      <td>200000.000000</td>\n",
              "      <td>200000.000000</td>\n",
              "      <td>200000.000000</td>\n",
              "      <td>200000.000000</td>\n",
              "      <td>...</td>\n",
              "      <td>200000.000000</td>\n",
              "      <td>200000.000000</td>\n",
              "      <td>200000.000000</td>\n",
              "      <td>200000.000000</td>\n",
              "      <td>200000.000000</td>\n",
              "      <td>200000.000000</td>\n",
              "      <td>200000.000000</td>\n",
              "      <td>200000.000000</td>\n",
              "      <td>200000.000000</td>\n",
              "      <td>200000.000000</td>\n",
              "    </tr>\n",
              "    <tr>\n",
              "      <th>mean</th>\n",
              "      <td>0.100490</td>\n",
              "      <td>10.679914</td>\n",
              "      <td>-1.627622</td>\n",
              "      <td>10.715192</td>\n",
              "      <td>6.796529</td>\n",
              "      <td>11.078333</td>\n",
              "      <td>-5.065317</td>\n",
              "      <td>5.408949</td>\n",
              "      <td>16.545850</td>\n",
              "      <td>0.284162</td>\n",
              "      <td>...</td>\n",
              "      <td>3.234440</td>\n",
              "      <td>7.438408</td>\n",
              "      <td>1.927839</td>\n",
              "      <td>3.331774</td>\n",
              "      <td>17.993784</td>\n",
              "      <td>-0.142088</td>\n",
              "      <td>2.303335</td>\n",
              "      <td>8.908158</td>\n",
              "      <td>15.870720</td>\n",
              "      <td>-3.326537</td>\n",
              "    </tr>\n",
              "    <tr>\n",
              "      <th>std</th>\n",
              "      <td>0.300653</td>\n",
              "      <td>3.040051</td>\n",
              "      <td>4.050044</td>\n",
              "      <td>2.640894</td>\n",
              "      <td>2.043319</td>\n",
              "      <td>1.623150</td>\n",
              "      <td>7.863267</td>\n",
              "      <td>0.866607</td>\n",
              "      <td>3.418076</td>\n",
              "      <td>3.332634</td>\n",
              "      <td>...</td>\n",
              "      <td>4.559922</td>\n",
              "      <td>3.023272</td>\n",
              "      <td>1.478423</td>\n",
              "      <td>3.992030</td>\n",
              "      <td>3.135162</td>\n",
              "      <td>1.429372</td>\n",
              "      <td>5.454369</td>\n",
              "      <td>0.921625</td>\n",
              "      <td>3.010945</td>\n",
              "      <td>10.438015</td>\n",
              "    </tr>\n",
              "    <tr>\n",
              "      <th>min</th>\n",
              "      <td>0.000000</td>\n",
              "      <td>0.408400</td>\n",
              "      <td>-15.043400</td>\n",
              "      <td>2.117100</td>\n",
              "      <td>-0.040200</td>\n",
              "      <td>5.074800</td>\n",
              "      <td>-32.562600</td>\n",
              "      <td>2.347300</td>\n",
              "      <td>5.349700</td>\n",
              "      <td>-10.505500</td>\n",
              "      <td>...</td>\n",
              "      <td>-14.093300</td>\n",
              "      <td>-2.691700</td>\n",
              "      <td>-3.814500</td>\n",
              "      <td>-11.783400</td>\n",
              "      <td>8.694400</td>\n",
              "      <td>-5.261000</td>\n",
              "      <td>-14.209600</td>\n",
              "      <td>5.960600</td>\n",
              "      <td>6.299300</td>\n",
              "      <td>-38.852800</td>\n",
              "    </tr>\n",
              "    <tr>\n",
              "      <th>25%</th>\n",
              "      <td>0.000000</td>\n",
              "      <td>8.453850</td>\n",
              "      <td>-4.740025</td>\n",
              "      <td>8.722475</td>\n",
              "      <td>5.254075</td>\n",
              "      <td>9.883175</td>\n",
              "      <td>-11.200350</td>\n",
              "      <td>4.767700</td>\n",
              "      <td>13.943800</td>\n",
              "      <td>-2.317800</td>\n",
              "      <td>...</td>\n",
              "      <td>-0.058825</td>\n",
              "      <td>5.157400</td>\n",
              "      <td>0.889775</td>\n",
              "      <td>0.584600</td>\n",
              "      <td>15.629800</td>\n",
              "      <td>-1.170700</td>\n",
              "      <td>-1.946925</td>\n",
              "      <td>8.252800</td>\n",
              "      <td>13.829700</td>\n",
              "      <td>-11.208475</td>\n",
              "    </tr>\n",
              "    <tr>\n",
              "      <th>50%</th>\n",
              "      <td>0.000000</td>\n",
              "      <td>10.524750</td>\n",
              "      <td>-1.608050</td>\n",
              "      <td>10.580000</td>\n",
              "      <td>6.825000</td>\n",
              "      <td>11.108250</td>\n",
              "      <td>-4.833150</td>\n",
              "      <td>5.385100</td>\n",
              "      <td>16.456800</td>\n",
              "      <td>0.393700</td>\n",
              "      <td>...</td>\n",
              "      <td>3.203600</td>\n",
              "      <td>7.347750</td>\n",
              "      <td>1.901300</td>\n",
              "      <td>3.396350</td>\n",
              "      <td>17.957950</td>\n",
              "      <td>-0.172700</td>\n",
              "      <td>2.408900</td>\n",
              "      <td>8.888200</td>\n",
              "      <td>15.934050</td>\n",
              "      <td>-2.819550</td>\n",
              "    </tr>\n",
              "    <tr>\n",
              "      <th>75%</th>\n",
              "      <td>0.000000</td>\n",
              "      <td>12.758200</td>\n",
              "      <td>1.358625</td>\n",
              "      <td>12.516700</td>\n",
              "      <td>8.324100</td>\n",
              "      <td>12.261125</td>\n",
              "      <td>0.924800</td>\n",
              "      <td>6.003000</td>\n",
              "      <td>19.102900</td>\n",
              "      <td>2.937900</td>\n",
              "      <td>...</td>\n",
              "      <td>6.406200</td>\n",
              "      <td>9.512525</td>\n",
              "      <td>2.949500</td>\n",
              "      <td>6.205800</td>\n",
              "      <td>20.396525</td>\n",
              "      <td>0.829600</td>\n",
              "      <td>6.556725</td>\n",
              "      <td>9.593300</td>\n",
              "      <td>18.064725</td>\n",
              "      <td>4.836800</td>\n",
              "    </tr>\n",
              "    <tr>\n",
              "      <th>max</th>\n",
              "      <td>1.000000</td>\n",
              "      <td>20.315000</td>\n",
              "      <td>10.376800</td>\n",
              "      <td>19.353000</td>\n",
              "      <td>13.188300</td>\n",
              "      <td>16.671400</td>\n",
              "      <td>17.251600</td>\n",
              "      <td>8.447700</td>\n",
              "      <td>27.691800</td>\n",
              "      <td>10.151300</td>\n",
              "      <td>...</td>\n",
              "      <td>18.440900</td>\n",
              "      <td>16.716500</td>\n",
              "      <td>8.402400</td>\n",
              "      <td>18.281800</td>\n",
              "      <td>27.928800</td>\n",
              "      <td>4.272900</td>\n",
              "      <td>18.321500</td>\n",
              "      <td>12.000400</td>\n",
              "      <td>26.079100</td>\n",
              "      <td>28.500700</td>\n",
              "    </tr>\n",
              "  </tbody>\n",
              "</table>\n",
              "<p>8 rows × 201 columns</p>\n",
              "</div>\n",
              "      <button class=\"colab-df-convert\" onclick=\"convertToInteractive('df-8d47ff68-a1b2-4106-81d4-bbada9e29515')\"\n",
              "              title=\"Convert this dataframe to an interactive table.\"\n",
              "              style=\"display:none;\">\n",
              "        \n",
              "  <svg xmlns=\"http://www.w3.org/2000/svg\" height=\"24px\"viewBox=\"0 0 24 24\"\n",
              "       width=\"24px\">\n",
              "    <path d=\"M0 0h24v24H0V0z\" fill=\"none\"/>\n",
              "    <path d=\"M18.56 5.44l.94 2.06.94-2.06 2.06-.94-2.06-.94-.94-2.06-.94 2.06-2.06.94zm-11 1L8.5 8.5l.94-2.06 2.06-.94-2.06-.94L8.5 2.5l-.94 2.06-2.06.94zm10 10l.94 2.06.94-2.06 2.06-.94-2.06-.94-.94-2.06-.94 2.06-2.06.94z\"/><path d=\"M17.41 7.96l-1.37-1.37c-.4-.4-.92-.59-1.43-.59-.52 0-1.04.2-1.43.59L10.3 9.45l-7.72 7.72c-.78.78-.78 2.05 0 2.83L4 21.41c.39.39.9.59 1.41.59.51 0 1.02-.2 1.41-.59l7.78-7.78 2.81-2.81c.8-.78.8-2.07 0-2.86zM5.41 20L4 18.59l7.72-7.72 1.47 1.35L5.41 20z\"/>\n",
              "  </svg>\n",
              "      </button>\n",
              "      \n",
              "  <style>\n",
              "    .colab-df-container {\n",
              "      display:flex;\n",
              "      flex-wrap:wrap;\n",
              "      gap: 12px;\n",
              "    }\n",
              "\n",
              "    .colab-df-convert {\n",
              "      background-color: #E8F0FE;\n",
              "      border: none;\n",
              "      border-radius: 50%;\n",
              "      cursor: pointer;\n",
              "      display: none;\n",
              "      fill: #1967D2;\n",
              "      height: 32px;\n",
              "      padding: 0 0 0 0;\n",
              "      width: 32px;\n",
              "    }\n",
              "\n",
              "    .colab-df-convert:hover {\n",
              "      background-color: #E2EBFA;\n",
              "      box-shadow: 0px 1px 2px rgba(60, 64, 67, 0.3), 0px 1px 3px 1px rgba(60, 64, 67, 0.15);\n",
              "      fill: #174EA6;\n",
              "    }\n",
              "\n",
              "    [theme=dark] .colab-df-convert {\n",
              "      background-color: #3B4455;\n",
              "      fill: #D2E3FC;\n",
              "    }\n",
              "\n",
              "    [theme=dark] .colab-df-convert:hover {\n",
              "      background-color: #434B5C;\n",
              "      box-shadow: 0px 1px 3px 1px rgba(0, 0, 0, 0.15);\n",
              "      filter: drop-shadow(0px 1px 2px rgba(0, 0, 0, 0.3));\n",
              "      fill: #FFFFFF;\n",
              "    }\n",
              "  </style>\n",
              "\n",
              "      <script>\n",
              "        const buttonEl =\n",
              "          document.querySelector('#df-8d47ff68-a1b2-4106-81d4-bbada9e29515 button.colab-df-convert');\n",
              "        buttonEl.style.display =\n",
              "          google.colab.kernel.accessAllowed ? 'block' : 'none';\n",
              "\n",
              "        async function convertToInteractive(key) {\n",
              "          const element = document.querySelector('#df-8d47ff68-a1b2-4106-81d4-bbada9e29515');\n",
              "          const dataTable =\n",
              "            await google.colab.kernel.invokeFunction('convertToInteractive',\n",
              "                                                     [key], {});\n",
              "          if (!dataTable) return;\n",
              "\n",
              "          const docLinkHtml = 'Like what you see? Visit the ' +\n",
              "            '<a target=\"_blank\" href=https://colab.research.google.com/notebooks/data_table.ipynb>data table notebook</a>'\n",
              "            + ' to learn more about interactive tables.';\n",
              "          element.innerHTML = '';\n",
              "          dataTable['output_type'] = 'display_data';\n",
              "          await google.colab.output.renderOutput(dataTable, element);\n",
              "          const docLink = document.createElement('div');\n",
              "          docLink.innerHTML = docLinkHtml;\n",
              "          element.appendChild(docLink);\n",
              "        }\n",
              "      </script>\n",
              "    </div>\n",
              "  </div>\n",
              "  "
            ]
          },
          "metadata": {},
          "execution_count": 12
        }
      ]
    },
    {
      "cell_type": "markdown",
      "source": [
        "We have very imbalabce dataset."
      ],
      "metadata": {
        "id": "2uoUEekM6afc"
      }
    },
    {
      "cell_type": "code",
      "source": [
        "df.target.value_counts(normalize=1)"
      ],
      "metadata": {
        "colab": {
          "base_uri": "https://localhost:8080/"
        },
        "id": "5suttwyK2Wjp",
        "outputId": "0f28de14-d5c1-4fc6-fa17-1fd41d73045f"
      },
      "execution_count": null,
      "outputs": [
        {
          "output_type": "execute_result",
          "data": {
            "text/plain": [
              "0    0.89951\n",
              "1    0.10049\n",
              "Name: target, dtype: float64"
            ]
          },
          "metadata": {},
          "execution_count": 8
        }
      ]
    },
    {
      "cell_type": "markdown",
      "source": [
        "we can do several things for this:\n",
        "- Class weight approache\n",
        "- Downsampling\n",
        "- Upsampling\n",
        "- Resampling"
      ],
      "metadata": {
        "id": "xezTNxw2Aq7Y"
      }
    },
    {
      "cell_type": "markdown",
      "source": [
        "Import necessary library for imbalance dataset."
      ],
      "metadata": {
        "id": "Uq8K0MosWw09"
      }
    },
    {
      "cell_type": "code",
      "source": [
        "from imblearn.under_sampling import RandomUnderSampler, NearMiss, TomekLinks\n",
        "from imblearn.over_sampling import RandomOverSampler, KMeansSMOTE, SMOTE, SMOTEN"
      ],
      "metadata": {
        "id": "ykICpVPQA9TZ"
      },
      "execution_count": null,
      "outputs": []
    },
    {
      "cell_type": "markdown",
      "source": [
        "Our data set is clean but first we want to analyse it without Dimension reduction technique like `PCA` or `Clustering` ...\n",
        "but you have to know your data set so good, because when you do Dimension Reduction technique you lose some information\n",
        "\n",
        "\n",
        "\n",
        "---\n",
        "\n"
      ],
      "metadata": {
        "id": "9bLu9CuYX2Y1"
      }
    },
    {
      "cell_type": "markdown",
      "source": [
        "# Data preprocessing for predictive analysis"
      ],
      "metadata": {
        "id": "zGtqizO5YQmX"
      }
    },
    {
      "cell_type": "markdown",
      "source": [
        "import necessary libraries"
      ],
      "metadata": {
        "id": "bFV73rKOYZW4"
      }
    },
    {
      "cell_type": "code",
      "source": [
        "from sklearn.model_selection import train_test_split"
      ],
      "metadata": {
        "id": "4sYd-7SGXtka"
      },
      "execution_count": null,
      "outputs": []
    },
    {
      "cell_type": "code",
      "source": [
        "X = df.iloc[:, 1:]\n",
        "y = df.target\n",
        "\n",
        "X.shape, y.shape"
      ],
      "metadata": {
        "colab": {
          "base_uri": "https://localhost:8080/"
        },
        "id": "oNwQORbPZK_4",
        "outputId": "10a3b084-6868-4430-b4c8-617ff52a5b53"
      },
      "execution_count": null,
      "outputs": [
        {
          "output_type": "execute_result",
          "data": {
            "text/plain": [
              "((200000, 200), (200000,))"
            ]
          },
          "metadata": {},
          "execution_count": 9
        }
      ]
    },
    {
      "cell_type": "markdown",
      "source": [
        "**Note:** in kaggle competitions ussually we have 2 dataset one for train and another one for test so we can train our model on entire train dataset after validate our model.\n",
        "and another thing is that you have to check that do you have same values and features in train and test set or there are some differences."
      ],
      "metadata": {
        "id": "jWtw3tiDZnqG"
      }
    },
    {
      "cell_type": "markdown",
      "source": [
        "Let's our data set into `train` and `validate`."
      ],
      "metadata": {
        "id": "lo1or6lpaT5S"
      }
    },
    {
      "cell_type": "markdown",
      "source": [
        "`Tip`: If you get enough accuracy in ypu model, you can improve it by `Psudo labeling technique` but be aware about **overfitting**."
      ],
      "metadata": {
        "id": "8bMBUI1laaEU"
      }
    },
    {
      "cell_type": "markdown",
      "source": [
        "we use `stratify` parametere here because we want to save ferquency of target in train and validate sets"
      ],
      "metadata": {
        "id": "hAODO0RHbzoH"
      }
    },
    {
      "cell_type": "code",
      "source": [
        "X_train, X_valid, y_train, y_valid = train_test_split(X, y, stratify=y, test_size=0.3, random_state=123)"
      ],
      "metadata": {
        "id": "VqqEbOr0ZbaU"
      },
      "execution_count": null,
      "outputs": []
    },
    {
      "cell_type": "markdown",
      "source": [
        "As we can see validate and train sets have same relative ferquencies for their values but they are very `imbalance`."
      ],
      "metadata": {
        "id": "aky5Tpb1cZtx"
      }
    },
    {
      "cell_type": "code",
      "source": [
        "y_train.value_counts(normalize=1), y_valid.value_counts(normalize=1)"
      ],
      "metadata": {
        "colab": {
          "base_uri": "https://localhost:8080/"
        },
        "id": "3cxYdxV4cDlT",
        "outputId": "73c094ff-6d0a-4b36-b567-362235af6c16"
      },
      "execution_count": null,
      "outputs": [
        {
          "output_type": "execute_result",
          "data": {
            "text/plain": [
              "(0    0.899507\n",
              " 1    0.100493\n",
              " Name: target, dtype: float64,\n",
              " 0    0.899517\n",
              " 1    0.100483\n",
              " Name: target, dtype: float64)"
            ]
          },
          "metadata": {},
          "execution_count": 11
        }
      ]
    },
    {
      "cell_type": "markdown",
      "source": [
        "## data sampling for imbalance dataset"
      ],
      "metadata": {
        "id": "92INRGJ6crLj"
      }
    },
    {
      "cell_type": "markdown",
      "source": [
        "Because we have a big dataset and we do not want to create instances that are not 100 pecent real so we decide to do downsampling first."
      ],
      "metadata": {
        "id": "vsPpMvZXdNS_"
      }
    },
    {
      "cell_type": "markdown",
      "source": [
        "### Downsampling"
      ],
      "metadata": {
        "id": "A776ctLldIrp"
      }
    },
    {
      "cell_type": "markdown",
      "source": [
        "#### RandomUnderSampler, NearMiss, TomekLinks"
      ],
      "metadata": {
        "id": "18qij5S-dmkT"
      }
    },
    {
      "cell_type": "code",
      "source": [
        "# Implement down sampling techniques."
      ],
      "metadata": {
        "id": "qs0K_yBMcV4A"
      },
      "execution_count": null,
      "outputs": []
    }
  ]
}